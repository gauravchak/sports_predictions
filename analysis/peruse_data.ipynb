{
 "cells": [
  {
   "cell_type": "markdown",
   "metadata": {},
   "source": [
    "### Peruse data"
   ]
  },
  {
   "cell_type": "code",
   "execution_count": 1,
   "metadata": {},
   "outputs": [],
   "source": [
    "import pandas as pd\n",
    "from datetime import datetime, date, timedelta"
   ]
  },
  {
   "cell_type": "code",
   "execution_count": null,
   "metadata": {},
   "outputs": [],
   "source": []
  },
  {
   "cell_type": "code",
   "execution_count": 2,
   "metadata": {},
   "outputs": [],
   "source": [
    "import re\n",
    "def read_results_file(filename:str) -> pd.DataFrame:\n",
    "    raw_df = pd.read_csv(filename) \n",
    "    # Seperate Day of Week into separate column\n",
    "    raw_df['DayOfWeek'] = raw_df.Date.apply(lambda x : x.split()[0].replace(\"(\",\"\").replace(\")\",\"\"))\n",
    "    raw_df.Date = raw_df.Date.apply(lambda x : \"-\".join(x.split()[1:4]))\n",
    "    raw_df.Date = pd.to_datetime(raw_df.Date, format=\"%d-%b-%Y\")\n",
    "\n",
    "    # Now rename columns and set index\n",
    "    raw_df = raw_df[['Date', 'Team 1', 'FT', 'HT', 'Team 2', 'DayOfWeek']]\n",
    "    raw_df = raw_df.rename(columns={'Date':'game_date','Team 1':'home_team','Team 2':'away_team'})\n",
    "    raw_df = raw_df.set_index('game_date')\n",
    "\n",
    "    # Break Full Time score into parts\n",
    "    if 'FT' in raw_df.columns:\n",
    "        df2 = pd.DataFrame(raw_df.FT.apply(lambda x: x.split('-')))\n",
    "        raw_df[['score_home','score_away']] = pd.DataFrame(df2.FT.values.tolist(), index=df2.index)\n",
    "        # Since we have parsed it, we can drop FT\n",
    "        raw_df = raw_df.drop(columns=['FT'])\n",
    "\n",
    "    # Break Full Time score into parts\n",
    "    if 'HT' in raw_df.columns:\n",
    "        df2 = pd.DataFrame(raw_df.HT.apply(lambda x: x.split('-')))\n",
    "        raw_df[['half_score_home','half_score_away']] = pd.DataFrame(df2.HT.values.tolist(), index=df2.index)\n",
    "        # Since we have parsed it, we can drop HT\n",
    "        raw_df = raw_df.drop(columns=['HT'])\n",
    "\n",
    "    # Simplify the strings\n",
    "    raw_df['home_team'] = raw_df.home_team.apply(lambda x: x.split('(')[0].rstrip().lstrip())\n",
    "    raw_df['away_team'] = raw_df.away_team.apply(lambda x: x.split('(')[0].rstrip().lstrip())\n",
    "    return raw_df.reset_index().sort_values(by='game_date',ascending=True).set_index('game_date')"
   ]
  },
  {
   "cell_type": "code",
   "execution_count": 3,
   "metadata": {},
   "outputs": [],
   "source": [
    "results_df = read_results_file(\"../../eng-england/2010s/2017-18/1-premierleague.csv\")"
   ]
  },
  {
   "cell_type": "code",
   "execution_count": 6,
   "metadata": {},
   "outputs": [],
   "source": [
    "#results_df"
   ]
  },
  {
   "cell_type": "code",
   "execution_count": 4,
   "metadata": {},
   "outputs": [],
   "source": [
    "last_game_date=results_df.index[0] - timedelta(1)\n",
    "for game in results_df.reset_index().values:\n",
    "    if game[0] > last_game_date:\n",
    "        last_game_date = game[0]\n",
    "        # Before reading results of this new day, run a prediction_experiment based on the results\n",
    "        # available till the day before\n",
    "# At the end of the season there is no reason to run a prediction experiment but we might want to check\n",
    "# how well we have done. However if the season is not complete, then we should run a final prediction"
   ]
  }
 ],
 "metadata": {
  "kernelspec": {
   "display_name": "Python 3",
   "language": "python",
   "name": "python3"
  },
  "language_info": {
   "codemirror_mode": {
    "name": "ipython",
    "version": 3
   },
   "file_extension": ".py",
   "mimetype": "text/x-python",
   "name": "python",
   "nbconvert_exporter": "python",
   "pygments_lexer": "ipython3",
   "version": "3.7.2"
  }
 },
 "nbformat": 4,
 "nbformat_minor": 2
}
